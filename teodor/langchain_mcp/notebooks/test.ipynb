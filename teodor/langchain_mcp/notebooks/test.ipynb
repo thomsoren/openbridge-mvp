{
 "cells": [
  {
   "cell_type": "code",
   "execution_count": 2,
   "id": "96df7069",
   "metadata": {},
   "outputs": [],
   "source": [
    "import os \n",
    "from dotenv import load_dotenv\n",
    "\n",
    "load_dotenv()\n",
    "\n",
    "OPENAI_API_KEY = os.getenv(\"OPENAI_API_KEY\")"
   ]
  },
  {
   "cell_type": "code",
   "execution_count": 17,
   "id": "88d16253",
   "metadata": {},
   "outputs": [],
   "source": [
    "from contextlib import asynccontextmanager\n",
    "from langchain_mcp_adapters.client import MultiServerMCPClient\n",
    "from langgraph.prebuilt import create_react_agent\n",
    "from langchain_openai import ChatOpenAI\n",
    "\n",
    "model = ChatOpenAI(model='gpt-4o-mini')\n",
    "\n",
    "@asynccontextmanager\n",
    "async def make_graph():\n",
    "    async with MultiServerMCPClient(\n",
    "        {\n",
    "            \"math\": {\n",
    "                \"command\": \"python\",\n",
    "                # Make sure to update to the full absolute path to your math_server.py file\n",
    "                \"args\": [\"/home/teodorrk/projects/openbridge-mvp/teodor/langchain_mcp/math_server.py\"],\n",
    "                \"transport\": \"stdio\",\n",
    "            },\n",
    "            \"weather\": {\n",
    "                # make sure you start your weather server on port 8000\n",
    "                \"url\": \"http://localhost:8000/sse\",\n",
    "                \"transport\": \"sse\",\n",
    "            }\n",
    "        }\n",
    "    ) as client:\n",
    "        agent = create_react_agent(model, client.get_tools())\n",
    "        math_response = await agent.ainvoke({\"messages\": \"what's (3 + 5) x 12?\"})\n",
    "        #weather_response = await agent.ainvoke({\"messages\": \"what is the weather in nyc?\"})\n",
    "\n",
    "        print(\"Math Response:\", math_response)\n",
    "        #print(\"Weather Response:\", weather_response)\n",
    "        yield agent"
   ]
  },
  {
   "cell_type": "code",
   "execution_count": 19,
   "id": "44b4779e",
   "metadata": {},
   "outputs": [
    {
     "data": {
      "text/plain": [
       "<contextlib._AsyncGeneratorContextManager at 0x7f2a62483510>"
      ]
     },
     "execution_count": 19,
     "metadata": {},
     "output_type": "execute_result"
    }
   ],
   "source": [
    "graph = make_graph()\n",
    "graph"
   ]
  }
 ],
 "metadata": {
  "kernelspec": {
   "display_name": ".myvenv",
   "language": "python",
   "name": "python3"
  },
  "language_info": {
   "codemirror_mode": {
    "name": "ipython",
    "version": 3
   },
   "file_extension": ".py",
   "mimetype": "text/x-python",
   "name": "python",
   "nbconvert_exporter": "python",
   "pygments_lexer": "ipython3",
   "version": "3.11.11"
  }
 },
 "nbformat": 4,
 "nbformat_minor": 5
}
